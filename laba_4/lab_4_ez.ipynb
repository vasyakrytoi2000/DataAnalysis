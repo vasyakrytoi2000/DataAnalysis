{
 "cells": [
  {
   "cell_type": "markdown",
   "id": "54892a0a",
   "metadata": {},
   "source": [
    "1. Import necessary libraries and modules\n"
   ]
  },
  {
   "cell_type": "code",
   "execution_count": 23,
   "id": "284d3970",
   "metadata": {},
   "outputs": [],
   "source": [
    "from ucimlrepo import fetch_ucirepo \n",
    "import pandas as pd\n",
    "import numpy as np\n",
    "import urllib.request\n",
    "import zipfile\n",
    "import os\n",
    "import glob\n",
    "from datetime import datetime\n",
    "import time"
   ]
  },
  {
   "cell_type": "markdown",
   "id": "98ff173d",
   "metadata": {},
   "source": [
    "Decorator"
   ]
  },
  {
   "cell_type": "code",
   "execution_count": 24,
   "id": "a8dac657",
   "metadata": {},
   "outputs": [],
   "source": [
    "def time_se(func):\n",
    "    def wrapper(*args, **kwargs):\n",
    "        start = time.time()\n",
    "        result = func(*args, **kwargs)\n",
    "        end = time.time()\n",
    "        print(f\"⏱ Функція '{func.__name__}' виконалась за {end - start:.4f} секунд\")\n",
    "        return result\n",
    "    return wrapper\n"
   ]
  },
  {
   "cell_type": "markdown",
   "id": "4562a383",
   "metadata": {},
   "source": [
    "2. Download data, syys\n",
    "\n",
    "\n"
   ]
  },
  {
   "cell_type": "code",
   "execution_count": 14,
   "id": "2bb21959",
   "metadata": {},
   "outputs": [
    {
     "name": "stdout",
     "output_type": "stream",
     "text": [
      "You already have data\n"
     ]
    }
   ],
   "source": [
    "check_files = glob.glob(\"data/household_power_consumption.txt\")\n",
    "if check_files:\n",
    "    print(\"You already have data\")\n",
    "else:\n",
    "    print(\"Wait, data downloading...\")\n",
    "    dir_path = \"./data\"\n",
    "    data_filename = \"data/dataset_ez.zip\"\n",
    "    data_url = \"https://archive.ics.uci.edu/static/public/235/individual+household+electric+power+consumption.zip\" \n",
    "\n",
    "    os.makedirs(dir_path, exist_ok=True)\n",
    "    urllib.request.urlretrieve(data_url, data_filename)\n",
    "\n",
    "    with zipfile.ZipFile(data_filename, 'r') as zip:\n",
    "        zip.extractall(dir_path)\n",
    "    print(\"DONE!!!!!!!!!!!!!!!!!!!!!!!!!!!!!!!!!!!!!!!!!!!!!!!!!!!!!!!!!!!!!!!\")\n"
   ]
  },
  {
   "cell_type": "markdown",
   "id": "c1e6d363",
   "metadata": {},
   "source": [
    "3. Creating pandas dataframe and numpy array )"
   ]
  },
  {
   "cell_type": "code",
   "execution_count": 15,
   "id": "bc19bd1e",
   "metadata": {},
   "outputs": [],
   "source": [
    "file_path = \"data/household_power_consumption.txt\"\n",
    "dtype_df = {\n",
    "    'Global_active_power': 'float',\n",
    "    'Global_reactive_power': 'float',\n",
    "    'Voltage': 'float',\n",
    "    'Global_intensity': 'float',\n",
    "    'Sub_metering_1': 'float',\n",
    "    'Sub_metering_2': 'float',\n",
    "    'Sub_metering_3': 'float',\n",
    "}\n",
    "\n",
    "#DF---------------------------------------------------------------------------------------------------\n",
    "@time_se\n",
    "def DataFrame():\n",
    "    df = pd.read_csv(file_path, sep=\";\", dtype=dtype_df, na_values='?')\n",
    "    df['Date'] = pd.to_datetime(df['Date'], format='%d/%m/%Y')\n",
    "    df['Time'] = pd.to_datetime(df['Time'], format='%H:%M:%S')\n",
    "    df = df.dropna()\n",
    "    return df\n",
    "\n",
    "#ARR--------------------------------------------------------------------------------------------------\n",
    "@time_se\n",
    "def NpArray():\n",
    "    arr = np.genfromtxt(file_path, delimiter=';', names=True, dtype = None, missing_values =\"?\" )\n",
    "    numeric_coll = [name for name in arr.dtype.names if np.issubdtype(arr.dtype[name], np.number)]\n",
    "    mask = ~np.any([np.isnan(arr[field]) for field in numeric_coll], axis=0)  \n",
    "    arr = arr[mask]\n",
    "    \n",
    "\n",
    "    return arr\n",
    "\n",
    "\n",
    "\n",
    "\n",
    "\n"
   ]
  },
  {
   "cell_type": "markdown",
   "id": "76a83b55",
   "metadata": {},
   "source": [
    "<span style=\"font-size: 24px;\"><b>TASKS</b></span>\n"
   ]
  },
  {
   "cell_type": "markdown",
   "id": "c2d3e03c",
   "metadata": {},
   "source": [
    "1. Обрати всі записи, у яких загальна активна споживана потужність\n",
    "перевищує 5 кВт.\n"
   ]
  },
  {
   "cell_type": "code",
   "execution_count": 16,
   "id": "8b331ea7",
   "metadata": {},
   "outputs": [],
   "source": [
    "#DF--------------------------------------------------------------------------------\n",
    "@time_se\n",
    "def task1_df(df):\n",
    "    taska1_df = df[df['Global_active_power'] > 5]\n",
    "    return taska1_df\n",
    "\n",
    "#ARR-------------------------------------------------------------------------------\n",
    "@time_se\n",
    "def task1_arr(arr):\n",
    "    taska1_arr = arr[arr['Global_active_power'] > 5]\n",
    "    return taska1_arr"
   ]
  },
  {
   "cell_type": "markdown",
   "id": "2e8769fd",
   "metadata": {},
   "source": [
    "2. Обрати всі записи, у яких вольтаж перевищує 235 В."
   ]
  },
  {
   "cell_type": "code",
   "execution_count": 17,
   "id": "204747d3",
   "metadata": {},
   "outputs": [],
   "source": [
    "#DF--------------------------------------------------------------------------------\n",
    "@time_se\n",
    "def task2_df(df):\n",
    "    taska2_df = df[df['Voltage'] > 235]\n",
    "    return taska2_df\n",
    "\n",
    "#ARR-------------------------------------------------------------------------------\n",
    "@time_se\n",
    "def task2_arr(arr):\n",
    "    taska2_arr = arr[arr['Voltage'] > 235]\n",
    "    return taska2_arr\n"
   ]
  },
  {
   "cell_type": "markdown",
   "id": "ec95eaf1",
   "metadata": {},
   "source": [
    "3. Обрати всі записи, у яких сила струму лежить в межах 19-20 А, для них виявити ті, у яких пральна машина та холодильник споживають більше, ніж бойлер та кондиціонер."
   ]
  },
  {
   "cell_type": "code",
   "execution_count": 18,
   "id": "51598d91",
   "metadata": {},
   "outputs": [],
   "source": [
    "#DF--------------------------------------------------------------------------------\n",
    "@time_se\n",
    "def task3_df(df):\n",
    "    taska3_df = df[(df['Global_intensity'] >= 19) & (df['Global_intensity'] <= 20) & (df['Sub_metering_2'] > df['Sub_metering_3'])]\n",
    "    return taska3_df\n",
    "\n",
    "#ARR-------------------------------------------------------------------------------\n",
    "@time_se\n",
    "def task3_arr(arr):\n",
    "    taska3_arr = arr[(arr['Global_intensity'] >= 19) & (arr['Global_intensity'] <= 20) & (arr['Sub_metering_2'] > arr['Sub_metering_3'])]\n",
    "    return taska3_arr\n"
   ]
  },
  {
   "cell_type": "markdown",
   "id": "0d42cedd",
   "metadata": {},
   "source": [
    "4. Обрати випадковим чином 500000 записів (без повторів елементів вибірки), для них обчислити середні величини усіх 3-х груп споживання електричної енергії"
   ]
  },
  {
   "cell_type": "code",
   "execution_count": 19,
   "id": "2d9457e2",
   "metadata": {},
   "outputs": [],
   "source": [
    "#DF--------------------------------------------------------------------------------\n",
    "@time_se\n",
    "def task4_df(df, x):\n",
    "    random_df = df.sample(n=500000, replace=False, random_state=x)\n",
    "    avg_df = random_df[['Sub_metering_1', 'Sub_metering_2', 'Sub_metering_3']].mean()\n",
    "    return random_df, avg_df  \n",
    "\n",
    "#ARR-------------------------------------------------------------------------------\n",
    "@time_se\n",
    "def task4_arr(arr):\n",
    "    random_rows = np.random.choice(len(arr), size=500000, replace=False)\n",
    "    random_arr = arr[random_rows]\n",
    "    avg_arr = []\n",
    "    for name in ['Sub_metering_1', 'Sub_metering_2', 'Sub_metering_3']:\n",
    "        avg_arr.append(np.mean(random_arr[name]))\n",
    "    return random_arr, avg_arr\n",
    "\n"
   ]
  },
  {
   "cell_type": "markdown",
   "id": "614fde75",
   "metadata": {},
   "source": [
    "5. Обрати ті записи, які після 18-00 споживають понад 6 кВт за хвилину в середньому, серед відібраних визначити ті, у яких основне споживання електроенергії у вказаний проміжок часу припадає на пральну машину, сушарку, холодильник та освітлення (група 2 є найбільшою), а потім обрати кожен третій результат із першої половини та кожен четвертий результат із другої половини."
   ]
  },
  {
   "cell_type": "code",
   "execution_count": 20,
   "id": "d724cbb1",
   "metadata": {},
   "outputs": [],
   "source": [
    "#DF--------------------------------------------------------------------------------\n",
    "@time_se\n",
    "def task5_df(df):\n",
    "    task_time = pd.to_datetime('18:00:00', format='%H:%M:%S').time()\n",
    "    after_6 = df[(df['Time'].dt.time >= task_time) & (df['Global_active_power'] > 6)]\n",
    "\n",
    "    domination_gr2 = after_6.query('Sub_metering_2 > Sub_metering_1 and Sub_metering_2 > Sub_metering_3')\n",
    "\n",
    "    polovina = len(domination_gr2) // 2\n",
    "    polovina_1 =  domination_gr2.iloc[:polovina]\n",
    "    polovina_2 =  domination_gr2.iloc[polovina:]\n",
    "    polovina_1_3 = polovina_1.iloc[::3]\n",
    "    polovina_2_4 = polovina_2.iloc[::4]\n",
    "    taska_5 = pd.concat([polovina_1_3, polovina_2_4])\n",
    "    return taska_5\n",
    "    \n",
    "#ARR-------------------------------------------------------------------------------\n",
    "@time_se\n",
    "def task5_arr(arr):\n",
    "    task_time = datetime.strptime(\"18:00:00\", \"%H:%M:%S\").time()\n",
    "    Date_Time = np.char.add(np.char.add(arr['Date'], ' '), arr['Time'])\n",
    "    arr_Date_Time = [datetime.strptime(dt, \"%d/%m/%Y %H:%M:%S\") for dt in Date_Time]\n",
    "    arr_Time = np.array([dt.time() for dt in arr_Date_Time])\n",
    "    after_6 = arr[arr_Time > task_time]\n",
    "\n",
    "    domination_gr2 = after_6[\n",
    "        (after_6['Sub_metering_2'] > after_6['Sub_metering_3']) & \n",
    "        (after_6['Sub_metering_2'] > after_6['Sub_metering_1'])\n",
    "        ]\n",
    "\n",
    "    polovina = len(domination_gr2) // 2\n",
    "    polovina_1 = domination_gr2[:polovina]\n",
    "    polovina_2 = domination_gr2[polovina:]\n",
    "    polovina_1_3 = polovina_1[::3]\n",
    "    polovina_2_4 = polovina_2[::4]  \n",
    "    taska_5 = np.concatenate((polovina_1_3, polovina_2_4))\n",
    "    return taska_5\n",
    "\n"
   ]
  },
  {
   "cell_type": "markdown",
   "id": "28efbca7",
   "metadata": {},
   "source": [
    "<span style = 'font-size: 24px;'><b>Testing<b></span>"
   ]
  },
  {
   "cell_type": "code",
   "execution_count": 26,
   "id": "68f5d7e4",
   "metadata": {},
   "outputs": [
    {
     "name": "stdout",
     "output_type": "stream",
     "text": [
      "Function 'DataFrame':  4.2687 sec\n",
      "Function 'NpArray':  9.9752 sec\n",
      "Function 'task5_arr':  10.3673 sec\n",
      "Function 'task5_df':  0.4353 sec\n"
     ]
    }
   ],
   "source": [
    "df = DataFrame()\n",
    "arr = NpArray()\n",
    "\n",
    "t5arr = task5_arr(arr)\n",
    "t5df = task5_df(df)\n"
   ]
  }
 ],
 "metadata": {
  "kernelspec": {
   "display_name": "venv",
   "language": "python",
   "name": "python3"
  },
  "language_info": {
   "codemirror_mode": {
    "name": "ipython",
    "version": 3
   },
   "file_extension": ".py",
   "mimetype": "text/x-python",
   "name": "python",
   "nbconvert_exporter": "python",
   "pygments_lexer": "ipython3",
   "version": "3.12.9"
  }
 },
 "nbformat": 4,
 "nbformat_minor": 5
}
