{
 "cells": [
  {
   "cell_type": "markdown",
   "metadata": {},
   "source": [
    "1. Імпорт всіх необхідних бібліотек:"
   ]
  },
  {
   "cell_type": "code",
   "execution_count": 30,
   "metadata": {},
   "outputs": [],
   "source": [
    "import requests\n",
    "import urllib.request\n",
    "import pandas as pd\n",
    "import numpy as np\n",
    "from datetime import datetime\n",
    "import os\n",
    "import glob"
   ]
  },
  {
   "cell_type": "markdown",
   "metadata": {},
   "source": [
    "2. Скачування датасету з сайту:\n"
   ]
  },
  {
   "cell_type": "code",
   "execution_count": null,
   "metadata": {},
   "outputs": [
    {
     "name": "stdout",
     "output_type": "stream",
     "text": [
      "You have old data\n",
      "all files was deleted\n",
      "New VHI data for index 1 is downloaded...\n",
      "New VHI data for index 2 is downloaded...\n",
      "New VHI data for index 3 is downloaded...\n",
      "New VHI data for index 4 is downloaded...\n",
      "New VHI data for index 5 is downloaded...\n",
      "New VHI data for index 6 is downloaded...\n",
      "New VHI data for index 7 is downloaded...\n",
      "New VHI data for index 8 is downloaded...\n",
      "New VHI data for index 9 is downloaded...\n",
      "New VHI data for index 10 is downloaded...\n",
      "New VHI data for index 11 is downloaded...\n",
      "New VHI data for index 12 is downloaded...\n",
      "New VHI data for index 13 is downloaded...\n",
      "New VHI data for index 14 is downloaded...\n",
      "New VHI data for index 15 is downloaded...\n",
      "New VHI data for index 16 is downloaded...\n",
      "New VHI data for index 17 is downloaded...\n",
      "New VHI data for index 18 is downloaded...\n",
      "New VHI data for index 19 is downloaded...\n",
      "New VHI data for index 20 is downloaded...\n",
      "New VHI data for index 21 is downloaded...\n",
      "New VHI data for index 22 is downloaded...\n",
      "New VHI data for index 23 is downloaded...\n",
      "New VHI data for index 24 is downloaded...\n",
      "New VHI data for index 25 is downloaded...\n",
      "New VHI data for index 26 is downloaded...\n",
      "New VHI data for index 27 is downloaded...\n"
     ]
    }
   ],
   "source": [
    "def download():\n",
    "    now = datetime.now()\n",
    "    date_for_name = now.strftime(\"%d-%m-%Y-%H\")\n",
    "    cur_year, cur_week = now.isocalendar()[0], now.isocalendar()[1]\n",
    "\n",
    "    pattern = \"data/*_vhi_id_*.csv\"  \n",
    "    check_files = glob.glob(pattern)\n",
    "    if check_files:\n",
    "        for file in check_files:\n",
    "            baza = os.path.basename(file)\n",
    "            date_part = baza.split(\"_vhi_id_\")[0]\n",
    "            file_date = datetime.strptime(date_part, \"%d-%m-%Y-%H\")\n",
    "            file_year, file_week = file_date.isocalendar()[0], file_date.isocalendar()[1]\n",
    "            if (file_year, file_week) < (cur_year, cur_week):\n",
    "                print(\"You have old data\")\n",
    "                all_files = glob.glob(\"data/*\") \n",
    "                for old_file in all_files:\n",
    "                    os.remove(old_file)\n",
    "                print(\"all files was deleted\")\n",
    "                for i in range(1,28):\n",
    "                    url = f\"https://www.star.nesdis.noaa.gov/smcd/emb/vci/VH/get_TS_admin.php?country=UKR&provinceID={i}&year1=1981&year2={cur_year}&type=Mean\"\n",
    "                    vhi_url = urllib.request.urlopen(url)  \n",
    "                    out = open(f\"data/{date_for_name}_vhi_id_{i}.csv\", 'wb')\n",
    "                    out.write(vhi_url.read())\n",
    "                    out.close()\n",
    "                    print(f\"New VHI data for index {i} is downloaded...\")\n",
    "                break\n",
    "    elif not check_files:\n",
    "        print(\"You do not have data, wait for loading\")\n",
    "        for i in range(1, 28):\n",
    "            url= f\"https://www.star.nesdis.noaa.gov/smcd/emb/vci/VH/get_TS_admin.php?country=UKR&provinceID={i}&year1=1981&year2=2025&type=Mean\"\n",
    "            vhi_url = urllib.request.urlopen(url)  \n",
    "            out = open(f\"data/{date_for_name}_vhi_id_{i}.csv\", 'wb')\n",
    "            out.write(vhi_url.read())\n",
    "            out.close()\n",
    "            print(f\"VHI data for index {i} is downloaded...\")\n",
    "            \n",
    "download()\n",
    "    "
   ]
  },
  {
   "cell_type": "markdown",
   "metadata": {},
   "source": [
    "3. Зчитування даних в датафрейм:"
   ]
  },
  {
   "cell_type": "code",
   "execution_count": 124,
   "metadata": {},
   "outputs": [],
   "source": [
    "def dataframe():\n",
    "    pattern = \"data/*_vhi_id_*.csv\"\n",
    "    check_files2 = glob.glob(pattern)\n",
    "    df_list = []\n",
    "    headers = ['Year', 'Week', 'SMN', 'SMT', 'VCI', 'TCI', 'VHI', 'empty']\n",
    "    col = [0,1,2,3,4,5,6]\n",
    "    for file in check_files2:\n",
    "        area_id = int(file.split(\"_vhi_id_\")[1].split(\".csv\")[0])\n",
    "        df0 = pd.read_csv(file, header = 2, names = headers, usecols = col, skipfooter=3, engine='python')\n",
    "        df0['Area'] = area_id\n",
    "        df_list.append(df0)\n",
    "\n",
    "    df = pd.concat(df_list, ignore_index = True)\n",
    "    df[\"Area\"] = df[\"Area\"].replace({\n",
    "        24:1, 25:2, 5:3, 6:4, 27:5, 23:6, 26:7, 7:8, 11:9, 13:10,\n",
    "        14:11, 15:12, 16:13, 17:14, 18:15, 19:16, 21:17, 22:18, 8:19, 9:20, \n",
    "        10:21, 1:22, 3:23, 2:24, 4:25\n",
    "    })\n",
    "    df = df.drop(df.loc[df['VHI'] == -1].index)\n",
    "    return df\n",
    "\n",
    "\n",
    "\n",
    "\n"
   ]
  },
  {
   "cell_type": "markdown",
   "metadata": {},
   "source": [
    "4. VHI для певної області за вказаний рік\n"
   ]
  },
  {
   "cell_type": "code",
   "execution_count": 128,
   "metadata": {},
   "outputs": [],
   "source": [
    "def task_1(df):\n",
    "    try:\n",
    "        index = int(input(\"Area index: \"))\n",
    "        year = int(input(\"Which year: \"))\n",
    "    except ValueError:\n",
    "        print(\"Enter integer\")\n",
    "    else:\n",
    "        if index <= 0 or year <= 0:\n",
    "            print(\"Only positive and not zero\") \n",
    "\n",
    "    df['Year'] = df['Year'].astype(int)\n",
    "    f = df[(df[\"Area\"] == index) & (df[\"Year\"] == year)][\"VHI\"]\n",
    "    print(f)\n",
    "    \n",
    "\n"
   ]
  },
  {
   "cell_type": "markdown",
   "metadata": {},
   "source": [
    "5. Екстремуми, середнє та медіана VHI для певної області та року\n",
    "\n"
   ]
  },
  {
   "cell_type": "code",
   "execution_count": 129,
   "metadata": {},
   "outputs": [],
   "source": [
    "def task_2(df):\n",
    "    try:\n",
    "        index = int(input(\"Area index: \"))\n",
    "        year = int(input(\"Which year: \"))\n",
    "    except ValueError:\n",
    "        print(\"Enter integer\")\n",
    "    else:\n",
    "        if index <= 0 or year <= 0:\n",
    "            print(\"Only positive and not zero\")\n",
    "\n",
    "    df['Year'] = df['Year'].astype(int)        \n",
    "    min_v = df[(df[\"Year\"] == year) & (df[\"Area\"] == index) & (df[\"VHI\"] != -1)]['VHI'].min()\n",
    "    max_v = df[(df[\"Year\"] == year) & (df[\"Area\"] == index)]['VHI'].max()\n",
    "    avg_v = df[(df[\"Year\"] == year) & (df[\"Area\"] == index)]['VHI'].mean()\n",
    "    median = df[(df[\"Year\"] == year) & (df[\"Area\"] == index)]['VHI'].median()\n",
    "    print(f\"min: {min_v}, max: {max_v}, avg: {avg_v}, median: {median}\")\n"
   ]
  },
  {
   "cell_type": "markdown",
   "metadata": {},
   "source": [
    "6.\n"
   ]
  },
  {
   "cell_type": "code",
   "execution_count": null,
   "metadata": {},
   "outputs": [],
   "source": [
    "def task_3(df):\n",
    "    try:\n",
    "        index = int(input(\"Area index: \"))\n",
    "        from_year = int(input(\"From year: \"))\n",
    "        to_year = int(input(\"To year: \"))\n",
    "\n",
    "    except ValueError:\n",
    "        print(\"Enter integer\")\n",
    "    else:\n",
    "        if index <= 0 or from_year <= 0 or to_year <= 0:\n",
    "            print(\"Only positive and not zero\")\n",
    "\n",
    "    a = df.loc[(df[\"Year\"] >= from_year) & (df[\"Year\"] <= to_year) & (df[\"Area\"] == index), \"VHI\"]\n",
    "    print(a)"
   ]
  },
  {
   "cell_type": "markdown",
   "metadata": {},
   "source": [
    "7.Для всього набору даних виявити роки, протягом яких екстремальні  посухи торкнулися більше вказаного відсотка областей по Україні (20%  областей - 5 областей з 25). Повернути роки, назви областей з екстремальними посухами та значення VHI; \n"
   ]
  },
  {
   "cell_type": "markdown",
   "metadata": {},
   "source": [
    "Тобто є відсоток, його число множимо на кількість областей щоб визначити вибірку областей, тепер треба знайти всіііііі роки в яких VHI<=15  для >= 7 областей "
   ]
  },
  {
   "cell_type": "code",
   "execution_count": 132,
   "metadata": {},
   "outputs": [],
   "source": [
    "def task_4(df):\n",
    "    try:\n",
    "        procent = int(input(\"procent: \"))\n",
    "\n",
    "    except ValueError:\n",
    "            print(\"Enter integer\")\n",
    "    else:\n",
    "        if procent < 0 or procent > 100:\n",
    "            print(\"Only positive and not zero\")\n",
    "\n",
    "    num = procent / 100\n",
    "    sample = round(num * 27)\n",
    "    print(sample)\n",
    "    all = df[(df[\"VHI\"] <= 15) & (df[\"VHI\"] != -1)]\n",
    "    count_uni_area = all.groupby(\"Year\")[\"Area\"].nunique() \n",
    "    fin = count_uni_area[count_uni_area >= sample].index\n",
    "    print(fin)\n",
    "    result = all[all[\"Year\"].isin(fin)]\n",
    "    print(result[[\"Year\", \"Area\", \"VHI\"]])\n",
    "\n"
   ]
  },
  {
   "cell_type": "code",
   "execution_count": 140,
   "metadata": {},
   "outputs": [],
   "source": [
    "df = dataframe()\n",
    "#task_1(df)"
   ]
  },
  {
   "cell_type": "code",
   "execution_count": 139,
   "metadata": {},
   "outputs": [],
   "source": [
    "#task_2(df)"
   ]
  },
  {
   "cell_type": "code",
   "execution_count": 138,
   "metadata": {},
   "outputs": [],
   "source": [
    "#task_3(df)"
   ]
  },
  {
   "cell_type": "code",
   "execution_count": 137,
   "metadata": {},
   "outputs": [],
   "source": [
    "#task_4(df)"
   ]
  }
 ],
 "metadata": {
  "kernelspec": {
   "display_name": "venv",
   "language": "python",
   "name": "python3"
  },
  "language_info": {
   "codemirror_mode": {
    "name": "ipython",
    "version": 3
   },
   "file_extension": ".py",
   "mimetype": "text/x-python",
   "name": "python",
   "nbconvert_exporter": "python",
   "pygments_lexer": "ipython3",
   "version": "3.12.9"
  }
 },
 "nbformat": 4,
 "nbformat_minor": 2
}
